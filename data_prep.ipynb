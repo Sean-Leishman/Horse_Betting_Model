{
 "cells": [
  {
   "cell_type": "code",
   "execution_count": 2,
   "id": "02b8c890",
   "metadata": {},
   "outputs": [],
   "source": [
    "import pandas as pd\n",
    "import numpy as np \n",
    "from datetime import date,datetime\n",
    "import seaborn as sns\n",
    "\n",
    "from sklearn.linear_model import LinearRegression"
   ]
  },
  {
   "cell_type": "code",
   "execution_count": 3,
   "id": "d77de3db",
   "metadata": {
    "scrolled": true
   },
   "outputs": [],
   "source": [
    "original_df = pd.read_csv('full_data.csv')"
   ]
  },
  {
   "cell_type": "code",
   "execution_count": 4,
   "id": "12678404",
   "metadata": {},
   "outputs": [],
   "source": [
    "month_dict = {'Jan': '01', 'Feb': '02', 'Mar': '03', 'Apr': '04', 'May': '05', 'Jun': '06',\n",
    "              'Jul': '07', 'Aug': '08', 'Sep': '09', 'Oct': '10',\n",
    "              'Nov': '11', 'Dec': '12'}\n",
    "\n",
    "def convertStringIntoDate(newDate):\n",
    "    #print(newDate)\n",
    "    newDate = [x.strip() for x in newDate.split(\"-\")]\n",
    "    newDate[0] = int(newDate[0])\n",
    "    newDate[1] = int(newDate[1])\n",
    "    newDate[2] = int(newDate[2])\n",
    "    return date(newDate[0],newDate[1],newDate[2])"
   ]
  },
  {
   "cell_type": "code",
   "execution_count": 5,
   "id": "60d2d7fe",
   "metadata": {},
   "outputs": [],
   "source": [
    "type_dict = {\n",
    "    0: 'hurdle_win_percent',\n",
    "    1: 'flat_win_percent',\n",
    "    2: 'chase_win_percent'\n",
    "}\n",
    "going_dict = {\n",
    "    13: 'soft_win_percent',\n",
    "    14: 'soft_win_percent',\n",
    "    15: 'soft_win_percent',\n",
    "    19: 'soft_win_percent',\n",
    "    1: 'firm_win_percent',\n",
    "    2: 'firm_win_percent',\n",
    "    8: 'heavy_win_percent',\n",
    "    9: 'heavy_win_percent',\n",
    "    10: 'heavy_win_percent',\n",
    "    11: 'heavy_win_percent',\n",
    "    12: 'heavy_win_percent',\n",
    "    6: 'good_soft_win_percent',\n",
    "    7: 'good_soft_win_percent',\n",
    "    18: 'good_soft_win_percent',\n",
    "    20: 'good_soft_win_percent',\n",
    "    21: 'good_soft_win_percent',\n",
    "    -1: 'good_win_percent',\n",
    "    3: 'good_win_percent',\n",
    "    4: 'good_win_percent',\n",
    "    16: 'good_win_percent',\n",
    "    17: 'good_win_percent',\n",
    "    5: 'good_firm_win_percent',\n",
    "    4: 'good_firm_win_percent',\n",
    "    2: 'good_firm_win_percent'\n",
    "}\n",
    "\n",
    "going_basic_dict = {\n",
    "    13: 'heavy_win_percent',\n",
    "    14: 'heavy_win_percent',\n",
    "    15: 'heavy_win_percent',\n",
    "    19: 'heavy_win_percent',\n",
    "    1: 'firm_win_percent',\n",
    "    2: 'firm_win_percent',\n",
    "    8: 'heavy_win_percent',\n",
    "    9: 'heavy_win_percent',\n",
    "    10: 'heavy_win_percent',\n",
    "    11: 'heavy_win_percent',\n",
    "    12: 'heavy_win_percent',\n",
    "    6: 'good_win_percent',\n",
    "    7: 'good_win_percent',\n",
    "    18: 'good_win_percent',\n",
    "    20: 'good_win_percent',\n",
    "    21: 'good_win_percent',\n",
    "    -1: 'good_win_percent',\n",
    "    3: 'good_win_percent',\n",
    "    4: 'good_win_percent',\n",
    "    16: 'good_win_percent',\n",
    "    17: 'good_win_percent',\n",
    "    5: 'firm_win_percent',\n",
    "    4: 'firm_win_percent',\n",
    "    2: 'firm_win_percent'\n",
    "}\n",
    "\n",
    "dist_dict = {\n",
    "    4: '0_6_win_percent',\n",
    "    5: '0_6_win_percent',\n",
    "    6 : '0_6_win_percent',\n",
    "    7: '7_9_win_percent',\n",
    "    8: '7_9_win_percent',\n",
    "    9: '7_9_win_percent',\n",
    "    10: '10_13_win_percent',\n",
    "    11: '10_13_win_percent',\n",
    "    12: '10_13_win_percent',\n",
    "    13: '14_20_win_percent',\n",
    "    14: '14_20_win_percent',\n",
    "    15: '14_20_win_percent',\n",
    "    16: '14_20_win_percent',\n",
    "    17: '14_20_win_percent',\n",
    "    18: '14_20_win_percent',\n",
    "    19: '14_20_win_percent',\n",
    "    20: '14_20_win_percent',\n",
    "    21: '21_30_win_percent',\n",
    "    22: '21_30_win_percent',\n",
    "    23: '21_30_win_percent',\n",
    "    24: '21_30_win_percent',\n",
    "    25: '21_30_win_percent',\n",
    "    26: '21_30_win_percent',\n",
    "    27: '21_30_win_percent',\n",
    "    28: '21_30_win_percent',\n",
    "    29: '21_30_win_percent',\n",
    "    30: '21_30_win_percent',\n",
    "    31: '31_40_win_percent',\n",
    "    32: '31_40_win_percent',\n",
    "    33: '31_40_win_percent',\n",
    "    34: '31_40_win_percent',\n",
    "    35: '31_40_win_percent',\n",
    "    36: '31_40_win_percent',\n",
    "    37: '31_40_win_percent',\n",
    "    38: '31_40_win_percent',\n",
    "    39: '31_40_win_percent',\n",
    "    40: '31_40_win_percent'\n",
    "}"
   ]
  },
  {
   "cell_type": "code",
   "execution_count": 6,
   "id": "027a6370",
   "metadata": {},
   "outputs": [],
   "source": [
    "original_df['date'] = original_df['date'].apply(lambda row: convertStringIntoDate(row))\n",
    "original_df = original_df.sort_values([\"date\",\"race_id\"])"
   ]
  },
  {
   "cell_type": "code",
   "execution_count": 7,
   "id": "f6088844",
   "metadata": {},
   "outputs": [],
   "source": [
    "df = original_df.set_index(['race_id','horse_ids'])"
   ]
  },
  {
   "cell_type": "code",
   "execution_count": 8,
   "id": "917377d0",
   "metadata": {},
   "outputs": [],
   "source": [
    "horse_df = original_df.set_index(['horse_ids','race_id'])\n",
    "horse_df = horse_df.sort_index()"
   ]
  },
  {
   "cell_type": "code",
   "execution_count": 9,
   "id": "6707eb3a",
   "metadata": {},
   "outputs": [],
   "source": [
    "days_since_last_race = horse_df.groupby('horse_ids')['date'].diff()"
   ]
  },
  {
   "cell_type": "code",
   "execution_count": 10,
   "id": "f4e8c1f3",
   "metadata": {},
   "outputs": [],
   "source": [
    "test = days_since_last_race.iloc[35:60]\n",
    "test2 = horse_df.loc[pd.IndexSlice[9621:,]]"
   ]
  },
  {
   "cell_type": "code",
   "execution_count": 11,
   "id": "0eb3b6db",
   "metadata": {},
   "outputs": [],
   "source": [
    "val = days_since_last_race.values\n",
    "val = [x.days if str(x)!=\"NaT\" and str(x)!=\"nan\" else np.nan  for x in val]\n",
    "horse_df['days_since_last_race'] = val"
   ]
  },
  {
   "cell_type": "code",
   "execution_count": 12,
   "id": "7079d01a",
   "metadata": {},
   "outputs": [
    {
     "ename": "NameError",
     "evalue": "name 'valid_speed' is not defined",
     "output_type": "error",
     "traceback": [
      "\u001b[1;31m---------------------------------------------------------------------------\u001b[0m",
      "\u001b[1;31mNameError\u001b[0m                                 Traceback (most recent call last)",
      "\u001b[1;32m~\\AppData\\Local\\Temp/ipykernel_17604/188329058.py\u001b[0m in \u001b[0;36m<module>\u001b[1;34m\u001b[0m\n\u001b[0;32m      6\u001b[0m \u001b[1;33m\u001b[0m\u001b[0m\n\u001b[0;32m      7\u001b[0m \u001b[0mtrain_data\u001b[0m \u001b[1;33m=\u001b[0m  \u001b[0mhorse_df\u001b[0m\u001b[1;33m.\u001b[0m\u001b[0mloc\u001b[0m\u001b[1;33m[\u001b[0m\u001b[1;33m(\u001b[0m\u001b[0mhorse_df\u001b[0m\u001b[1;33m.\u001b[0m\u001b[0mratings\u001b[0m\u001b[1;33m!=\u001b[0m\u001b[1;36m0\u001b[0m\u001b[1;33m)\u001b[0m \u001b[1;33m&\u001b[0m \u001b[1;33m(\u001b[0m\u001b[0mhorse_df\u001b[0m\u001b[1;33m.\u001b[0m\u001b[0mtop_speeds\u001b[0m\u001b[1;33m!=\u001b[0m\u001b[1;36m0\u001b[0m\u001b[1;33m)\u001b[0m\u001b[1;33m]\u001b[0m\u001b[1;33m\u001b[0m\u001b[1;33m\u001b[0m\u001b[0m\n\u001b[1;32m----> 8\u001b[1;33m \u001b[0mlen\u001b[0m\u001b[1;33m(\u001b[0m\u001b[0mvalid_speed\u001b[0m\u001b[1;33m)\u001b[0m\u001b[1;33m,\u001b[0m \u001b[0mlen\u001b[0m\u001b[1;33m(\u001b[0m\u001b[0mnon_valid_speed\u001b[0m\u001b[1;33m)\u001b[0m\u001b[1;33m,\u001b[0m \u001b[0mlen\u001b[0m\u001b[1;33m(\u001b[0m\u001b[0mvalid_rating\u001b[0m\u001b[1;33m)\u001b[0m\u001b[1;33m,\u001b[0m \u001b[0mlen\u001b[0m\u001b[1;33m(\u001b[0m\u001b[0mnon_valid_rating\u001b[0m\u001b[1;33m)\u001b[0m\u001b[1;33m,\u001b[0m \u001b[0mlen\u001b[0m\u001b[1;33m(\u001b[0m\u001b[0mvalid_speed_rating\u001b[0m\u001b[1;33m)\u001b[0m\u001b[1;33m\u001b[0m\u001b[1;33m\u001b[0m\u001b[0m\n\u001b[0m",
      "\u001b[1;31mNameError\u001b[0m: name 'valid_speed' is not defined"
     ]
    }
   ],
   "source": [
    "# top_speeds nan fill\n",
    "train_rating = horse_df.loc[horse_df.top_speeds!=0]\n",
    "\n",
    "predict_rating_on_speed = horse_df.loc[(horse_df.ratings!=0) & (horse_df.top_speeds == 0)]\n",
    "predict_speed_on_rating = horse_df.loc[(horse_df.ratings==0) & (horse_df.top_speeds != 0)]\n",
    "\n",
    "train_data =  horse_df.loc[(horse_df.ratings!=0) & (horse_df.top_speeds!=0)]\n",
    "len(valid_speed), len(non_valid_speed), len(valid_rating), len(non_valid_rating), len(valid_speed_rating)"
   ]
  },
  {
   "cell_type": "code",
   "execution_count": null,
   "id": "1ecccf43",
   "metadata": {},
   "outputs": [],
   "source": [
    "predict_rating_on_speed"
   ]
  },
  {
   "cell_type": "code",
   "execution_count": null,
   "id": "737650c2",
   "metadata": {},
   "outputs": [],
   "source": [
    "model = LinearRegression()\n",
    "model.fit(train_data['ratings'].values.reshape(-1,1), train_data['top_speeds'].values.reshape(-1,1))"
   ]
  },
  {
   "cell_type": "code",
   "execution_count": null,
   "id": "1ae29667",
   "metadata": {},
   "outputs": [],
   "source": [
    "pred = model.predict(predict_rating_on_speed['ratings'].values.reshape(-1,1))\n",
    "horse_df.loc[predict_rating_on_speed.index, 'top_speeds'] = pred.flatten()"
   ]
  },
  {
   "cell_type": "code",
   "execution_count": null,
   "id": "e2125dbb",
   "metadata": {},
   "outputs": [],
   "source": [
    "model = LinearRegression()\n",
    "model.fit(train_data['top_speeds'].values.reshape(-1,1),train_data['ratings'].values.reshape(-1,1))\n",
    "pred = model.predict(predict_speed_on_rating['top_speeds'].values.reshape(-1,1))\n",
    "horse_df.loc[predict_speed_on_rating.index, 'ratings'] = pred.flatten()"
   ]
  },
  {
   "cell_type": "code",
   "execution_count": null,
   "id": "4a7763a1",
   "metadata": {},
   "outputs": [],
   "source": [
    "horse_df.loc[predict_speed_on_rating.index, 'ratings']"
   ]
  },
  {
   "cell_type": "code",
   "execution_count": null,
   "id": "d8c294be",
   "metadata": {},
   "outputs": [],
   "source": [
    "horse_df.loc[predict_rating_on_speed.index, 'top_speeds']"
   ]
  },
  {
   "cell_type": "code",
   "execution_count": null,
   "id": "25b22d59",
   "metadata": {},
   "outputs": [],
   "source": [
    "sns.scatterplot(horse_df['ratings'],horse_df['top_speeds'])"
   ]
  },
  {
   "cell_type": "code",
   "execution_count": null,
   "id": "09f02118",
   "metadata": {},
   "outputs": [],
   "source": [
    "len(horse_df.loc[(horse_df.top_speeds != 0) & (horse_df.ratings != 0) &(horse_df.official_ratings != 0)]) , len(horse_df.loc[(horse_df.ratings != 0) &(horse_df.official_ratings == 0)])"
   ]
  },
  {
   "cell_type": "code",
   "execution_count": null,
   "id": "76249b51",
   "metadata": {},
   "outputs": [],
   "source": [
    "train_data[['top_speeds','ratings']].values"
   ]
  },
  {
   "cell_type": "code",
   "execution_count": null,
   "id": "167ebe3a",
   "metadata": {},
   "outputs": [],
   "source": [
    "# official_ratin nan fill\n",
    "train_rating = horse_df.loc[horse_df.top_speeds!=0]\n",
    "\n",
    "predict_of = horse_df.loc[(horse_df.ratings!=0) & (horse_df.top_speeds!=0) & (horse_df.official_ratings == 0)]\n",
    "predict_speed_on_rating = horse_df.loc[(horse_df.ratings==0) & (horse_df.top_speeds != 0)]\n",
    "\n",
    "train_data =  horse_df.loc[(horse_df.ratings!=0) & (horse_df.top_speeds!=0) & (horse_df.official_ratings != 0)]\n",
    "\n",
    "model = LinearRegression()\n",
    "model.fit(train_data[['top_speeds','ratings']].values,train_data['official_ratings'].values.reshape(-1,1))\n",
    "pred = model.predict(predict_of[['top_speeds','ratings']].values)\n",
    "horse_df.loc[predict_of.index, 'official_ratings'] = pred.flatten()"
   ]
  },
  {
   "cell_type": "code",
   "execution_count": null,
   "id": "8abf599f",
   "metadata": {},
   "outputs": [],
   "source": [
    "mean_speed_figures = horse_df.groupby('horse_ids')['top_speeds'].rolling(5,min_periods=1,closed='left').mean().reset_index(0,drop=True)\n",
    "horse_df['mean_speed_figures'] = mean_speed_figures\n",
    "horse_df['mean_speed_figures'].isna().sum()"
   ]
  },
  {
   "cell_type": "code",
   "execution_count": null,
   "id": "727dc7b3",
   "metadata": {},
   "outputs": [],
   "source": [
    "horse_df['mean_ratings'] = horse_df.groupby('horse_ids')['ratings'].rolling(5,min_periods=1,closed='left').mean().reset_index(0,drop=True)\n",
    "horse_df['mean_ratings'].isna().sum()"
   ]
  },
  {
   "cell_type": "code",
   "execution_count": null,
   "id": "cfb91a57",
   "metadata": {},
   "outputs": [],
   "source": [
    "#horse_df.loc[pd.IndexSlice[6496,:]]"
   ]
  },
  {
   "cell_type": "code",
   "execution_count": null,
   "id": "5b683ce3",
   "metadata": {},
   "outputs": [],
   "source": [
    "#mean_speed_figures.loc[6496]"
   ]
  },
  {
   "cell_type": "code",
   "execution_count": null,
   "id": "0e66e45b",
   "metadata": {},
   "outputs": [],
   "source": [
    "last_figures = horse_df.groupby('horse_ids')['top_speeds'].rolling(1,closed='left').sum().reset_index(0,drop=True)\n",
    "horse_df['last_figures'] = last_figures"
   ]
  },
  {
   "cell_type": "code",
   "execution_count": null,
   "id": "055b3fbb",
   "metadata": {},
   "outputs": [],
   "source": [
    "horse_df['last_ratings'] =  horse_df.drop(horse_df.loc[horse_df.ratings == 0].index).groupby('horse_ids')['ratings'].rolling(1,closed='left').sum().reset_index(0,drop=True)"
   ]
  },
  {
   "cell_type": "code",
   "execution_count": null,
   "id": "ec4969b7",
   "metadata": {},
   "outputs": [],
   "source": [
    "horse_df['last_official_rating'] =  horse_df.drop(horse_df.loc[horse_df.official_ratings == 0].index).groupby('horse_ids')['official_ratings'].rolling(1,closed='left').sum().reset_index(0,drop=True)"
   ]
  },
  {
   "cell_type": "code",
   "execution_count": null,
   "id": "b7a4a7b1",
   "metadata": {},
   "outputs": [],
   "source": [
    "horse_df['difference_in_ratings'] = horse_df['last_ratings'] - horse_df['last_official_rating']"
   ]
  },
  {
   "cell_type": "code",
   "execution_count": null,
   "id": "4c0ee8f2",
   "metadata": {},
   "outputs": [],
   "source": [
    "horse_win_percents = horse_df.groupby('horse_ids')['won'].rolling(6,closed='left',min_periods=1).mean().reset_index(0,drop=True)\n",
    "horse_df['horse_win_percents'] = horse_win_percents"
   ]
  },
  {
   "cell_type": "code",
   "execution_count": null,
   "id": "77eb2cb9",
   "metadata": {},
   "outputs": [],
   "source": [
    "horse_df['going'].unique()"
   ]
  },
  {
   "cell_type": "code",
   "execution_count": null,
   "id": "7b557bd7",
   "metadata": {},
   "outputs": [],
   "source": [
    "going_ranks = pd.DataFrame([(8,10,11,3,9,12),(19,14,12),(13,12),(21,15),(6,20,15),(7,16),(4,16),(5,17),(2,1)])\n",
    "going_ranks2 = pd.DataFrame([(8,10,11,3,9,12,19,14,12),(19,14,12,8,10,11,3,9),(13,12,19,14,21,15),(21,15,13,12,6,20,15),\\\n",
    "                            (6,20,15,21,7,16),(7,16,6,20,15,4),(4,16,7,5,17),(5,17,4,16),(2,1,5,17)])"
   ]
  },
  {
   "cell_type": "code",
   "execution_count": null,
   "id": "73a366e4",
   "metadata": {},
   "outputs": [],
   "source": [
    "horse_df['going_cat'] = horse_df['going'].replace(going_basic_dict)"
   ]
  },
  {
   "cell_type": "code",
   "execution_count": null,
   "id": "deb44ff9",
   "metadata": {},
   "outputs": [],
   "source": [
    "best_figures_going = horse_df.groupby(['horse_ids','going'])['top_speeds'].rolling(max_num_races,closed='left',min_periods=1).max().reset_index([0,1],drop=True)\n",
    "best_rating_going = horse_df.groupby(['horse_ids','going'])['ratings'].rolling(max_num_races,closed='left',min_periods=1).max().reset_index([0,1],drop=True)\n",
    "best_official_rating_going = horse_df.groupby(['horse_ids','going'])['official_ratings'].rolling(max_num_races,closed='left',min_periods=1).max().reset_index([0,1],drop=True)\n",
    "win_percent_going = horse_df.groupby(['horse_ids','going'])['won'].rolling(max_num_races,closed='left', min_periods=1).mean().reset_index([0,1],drop=True)"
   ]
  },
  {
   "cell_type": "code",
   "execution_count": null,
   "id": "6ab96a53",
   "metadata": {},
   "outputs": [],
   "source": [
    "going_cat_figures = horse_df.groupby(['horse_ids','going_cat'])['top_speeds'].rolling(max_num_races,closed='left',min_periods=1).max().reset_index([0,1],drop=True)\n",
    "going_cat_ratings = horse_df.groupby(['horse_ids','going_cat'])['ratings'].rolling(max_num_races,closed='left',min_periods=1).max().reset_index([0,1],drop=True)\n",
    "going_cat_off_ratings = horse_df.groupby(['horse_ids','going_cat'])['official_ratings'].rolling(max_num_races,closed='left',min_periods=1).max().reset_index([0,1],drop=True)\n",
    "going_cat_win_percent = horse_df.groupby(['horse_ids','going_cat'])['won'].rolling(max_num_races,closed='left', min_periods=1).mean().reset_index([0,1],drop=True)"
   ]
  },
  {
   "cell_type": "code",
   "execution_count": null,
   "id": "f2f443e4",
   "metadata": {},
   "outputs": [],
   "source": [
    "best_figures_going.loc[best_figures_going.isna()] = going_cat_figures\n",
    "best_rating_going.loc[best_rating_going.isna()] = going_cat_ratings\n",
    "best_official_rating_going.loc[best_official_rating_going.isna()] = going_cat_off_ratings\n",
    "win_percent_going.loc[win_percent_going.isna()] = going_cat_win_percent"
   ]
  },
  {
   "cell_type": "code",
   "execution_count": null,
   "id": "2b6653d9",
   "metadata": {},
   "outputs": [],
   "source": [
    "horse_df['best_figures_going'] = best_figures_going\n",
    "horse_df['best_rating_going'] = best_rating_going\n",
    "horse_df['best_official_rating_going'] = best_official_rating_going\n",
    "horse_df['win_percent_going'] = win_percent_going"
   ]
  },
  {
   "cell_type": "code",
   "execution_count": null,
   "id": "043e0967",
   "metadata": {},
   "outputs": [],
   "source": [
    "horse_df['dist_categories'] = (horse_df['distance']/201.168).round().replace(dist_dict)\n",
    "best_figures_dist = horse_df.groupby(['horse_ids','dist_categories'])['top_speeds'].rolling(max_num_races,closed='left',min_periods=1).max().reset_index([0,1],drop=True)\n",
    "best_rating_dist = horse_df.groupby(['horse_ids','dist_categories'])['ratings'].rolling(max_num_races,closed='left',min_periods=1).max().reset_index([0,1],drop=True)\n",
    "best_official_rating_dist = horse_df.groupby(['horse_ids','dist_categories'])['official_ratings'].rolling(max_num_races,closed='left',min_periods=1).max().reset_index([0,1],drop=True)\n",
    "win_percent_dist = horse_df.groupby(['horse_ids','dist_categories'])['won'].rolling(max_num_races,closed='left',min_periods=1).mean().reset_index([0,1],drop=True)"
   ]
  },
  {
   "cell_type": "code",
   "execution_count": null,
   "id": "eed3e6fd",
   "metadata": {},
   "outputs": [],
   "source": [
    "horse_df.groupby(['horse_ids','dist_categories'])['top_speeds'].sum()"
   ]
  },
  {
   "cell_type": "code",
   "execution_count": null,
   "id": "aa3e4976",
   "metadata": {},
   "outputs": [],
   "source": [
    "best_figures_dist.isna().groupby(level=0).sum().loc[best_figures_dist.isna().groupby(level=0).sum() > 3]"
   ]
  },
  {
   "cell_type": "code",
   "execution_count": null,
   "id": "88dc34d5",
   "metadata": {},
   "outputs": [],
   "source": [
    "horse_df.loc[(303590,slice(None))][['distance','dist_categories','best_figures_dist','top_speeds']]"
   ]
  },
  {
   "cell_type": "code",
   "execution_count": null,
   "id": "2d005dcf",
   "metadata": {},
   "outputs": [],
   "source": [
    "horse_df['best_figures_dist'] = best_figures_dist\n",
    "horse_df['best_rating_dist'] = best_rating_dist\n",
    "horse_df['best_official_rating_dist'] = best_official_rating_dist\n",
    "horse_df['win_percent_dist'] = win_percent_dist"
   ]
  },
  {
   "cell_type": "code",
   "execution_count": null,
   "id": "68ef2878",
   "metadata": {},
   "outputs": [],
   "source": [
    "jockey_df = original_df.set_index(['jockey_ids','horse_ids','race_id'])"
   ]
  },
  {
   "cell_type": "code",
   "execution_count": null,
   "id": "4cf966bf",
   "metadata": {},
   "outputs": [],
   "source": [
    "jockey_win_percents = jockey_df.groupby(['jockey_ids'])['won'].rolling(20,closed='left',min_periods=1).mean().reset_index(0,drop=True)"
   ]
  },
  {
   "cell_type": "code",
   "execution_count": null,
   "id": "1b4308c4",
   "metadata": {},
   "outputs": [],
   "source": [
    "jockey_df['jockey_win_percent'] = jockey_win_percents"
   ]
  },
  {
   "cell_type": "code",
   "execution_count": null,
   "id": "4ed6c057",
   "metadata": {
    "scrolled": true
   },
   "outputs": [],
   "source": [
    "a = jockey_df.loc[(85957,slice(None),slice(None))]['jockey_win_percent'].iloc[0:20]\n",
    "real_jockey_wp = jockey_win_percents.reset_index(level='jockey_ids')\n",
    "\n",
    "horse_df['jockey_win_percent'] = real_jockey_wp['won']"
   ]
  },
  {
   "cell_type": "code",
   "execution_count": null,
   "id": "0cb63ac6",
   "metadata": {},
   "outputs": [],
   "source": [
    "trainer_df = original_df.set_index(['trainer_ids','horse_ids','race_id'])\n",
    "trainer_win_percent = trainer_df.groupby('trainer_ids')['won'].rolling(20,closed='left',min_periods=1).mean().reset_index(0,drop=True)"
   ]
  },
  {
   "cell_type": "code",
   "execution_count": null,
   "id": "95054ef0",
   "metadata": {},
   "outputs": [],
   "source": [
    "trainer_df['trainer_win_percent'] = trainer_win_percent\n",
    "real_trainer_wp = trainer_win_percent.reset_index(level='trainer_ids')"
   ]
  },
  {
   "cell_type": "code",
   "execution_count": null,
   "id": "7aae9ad3",
   "metadata": {},
   "outputs": [],
   "source": [
    "trainer_df['trainer_win_percent'] = trainer_win_percent\n",
    "real_trainer_wp = trainer_win_percent.reset_index(level='trainer_ids')\n",
    "\n",
    "horse_df['trainer_win_percent'] = real_trainer_wp['won']"
   ]
  },
  {
   "cell_type": "code",
   "execution_count": null,
   "id": "b582220b",
   "metadata": {},
   "outputs": [],
   "source": [
    "horse_df['placed'] = np.where((horse_df['places'] <= 3) & (horse_df['places'] >= 1), 1, 0)"
   ]
  },
  {
   "cell_type": "code",
   "execution_count": null,
   "id": "31f73c67",
   "metadata": {},
   "outputs": [],
   "source": [
    "horse_df['races_run'] = horse_df.groupby(level=0).rolling(max_num_races, closed='left', min_periods = 1).count().reset_index(0,drop=True)"
   ]
  },
  {
   "cell_type": "code",
   "execution_count": null,
   "id": "3ae042b6",
   "metadata": {},
   "outputs": [],
   "source": [
    "df = horse_df.reset_index()"
   ]
  },
  {
   "cell_type": "code",
   "execution_count": null,
   "id": "71eba13a",
   "metadata": {},
   "outputs": [],
   "source": [
    "df = df.sort_values(by=['date','race_id'])\n",
    "df = df.set_index(['race_id','horse_ids'])"
   ]
  },
  {
   "cell_type": "code",
   "execution_count": null,
   "id": "70968f18",
   "metadata": {},
   "outputs": [],
   "source": [
    "new_data = pd.read_csv(\"full_data4.csv\")\n",
    "new_data.reset_index(inplace=True)\n",
    "new_data = new_data.rename(columns={\"index\":\"race_id\",\"Unnamed: 0\":\"horse_ids\",\"male_pedigree\":\"sire_id\",\n",
    "                                   \"female_pedigree\":\"dam_id\", \"older_pedigree\":\"dam_sire_id\"})\n",
    "new_data.set_index(new_data.columns.tolist()[:2],inplace=True)"
   ]
  },
  {
   "cell_type": "code",
   "execution_count": null,
   "id": "eb71826d",
   "metadata": {},
   "outputs": [],
   "source": [
    "df2 = df.join(new_data)"
   ]
  },
  {
   "cell_type": "code",
   "execution_count": null,
   "id": "0fd8c1a4",
   "metadata": {},
   "outputs": [],
   "source": [
    "sire_win_percent = df2.groupby(\"sire_id\")['won'].mean().fillna(value=0).append(pd.Series(0))\n",
    "dam_win_percent = df2.groupby(\"dam_id\")['won'].mean().fillna(value=0).append(pd.Series(0))\n",
    "dam_sire_win_percent = df2.groupby(\"dam_sire_id\")['won'].mean().fillna(value=0).append(pd.Series(0))\n",
    "\n",
    "dam_win_percent"
   ]
  },
  {
   "cell_type": "code",
   "execution_count": null,
   "id": "0d69bd77",
   "metadata": {},
   "outputs": [],
   "source": [
    "def set_sire_win_percent(row):\n",
    "    print(row['sire_id'])"
   ]
  },
  {
   "cell_type": "code",
   "execution_count": null,
   "id": "10c33e35",
   "metadata": {},
   "outputs": [],
   "source": [
    "df2[['sire_id','dam_id','dam_sire_id']] = df2[['sire_id','dam_id','dam_sire_id']].fillna(value=0)\n",
    "df2['sire_win_percent'] = df2.apply(lambda row: sire_win_percent[row['sire_id']],axis=1)\n",
    "df2['dam_win_percent'] = df2.apply(lambda row: dam_win_percent[row['dam_id']],axis=1)\n",
    "df2['dam_sire_win_percent'] = df2.apply(lambda row: dam_sire_win_percent[row['dam_sire_id']],axis=1)\n",
    "#test_df.apply(lambda row: set_sire_win_percent(row),axis=1)"
   ]
  },
  {
   "cell_type": "code",
   "execution_count": null,
   "id": "9ab83803",
   "metadata": {},
   "outputs": [],
   "source": [
    "\"\"\"sire_df = pd.DataFrame(data = df2['sire_id'].unique(), columns=[\"sire_id\"])\n",
    "sire_df = sire_df.set_index('sire_id')\n",
    "sire_df['num_runners'] = df2.groupby('sire_id').count()['won'] \n",
    "sire_df['won'] = df2.groupby('sire_id').sum()['won']\n",
    "sire_df['win_percent'] = df2.groupby('sire_id').mean()['sire_win_percent']\n",
    "sire_df['flat_win_percent'] = df2.loc[df2.race_type == 1].groupby('sire_id').mean()['won']\n",
    "sire_df['chase_win_percent'] = df2.loc[df2.race_type == 2].groupby('sire_id').mean()['won']\n",
    "sire_df['hurdle_win_percent'] = df2.loc[df2.race_type == 0].groupby('sire_id').mean()['won']\n",
    "sire_df['soft_win_percent'] = df2.loc[(df2.going == 13) | df2.going == 19].groupby('sire_id').mean()['won']\n",
    "sire_df['standard_win_percent'] = df2.loc[(df2.going == 16) | (df2.going == 17)].groupby('sire_id').mean()['won']\n",
    "sire_df['standard_slow_win_percent'] = df2.loc[(df2.going == 18) | (df2.going == 16) | (df2.going == 12)].groupby('sire_id').mean()['won']\n",
    "sire_df['firm_win_percent'] = df2.loc[df2.going == 2].groupby('sire_id').mean()['won']\n",
    "sire_df['heavy_win_percent'] = df2.loc[df2.going == 8].groupby('sire_id').mean()['won']\n",
    "sire_df['good_soft_win_percent'] = df2.loc[(df2.going == 6) | (df2.going == 4) | (df2.going == 13)].groupby('sire_id').mean()['won']\n",
    "sire_df['good_win_percent'] = df2.loc[df2.going == 4].groupby('sire_id').mean()['won']\n",
    "sire_df['yielding_win_percent'] = df2.loc[df2.going == 20].groupby('sire_id').mean()['won'] \n",
    "sire_df['good_firm_win_percent'] = df2.loc[(df2.going == 5) | (df2.going == 4) | (df2.going == 2)].groupby('sire_id').mean()['won'] \n",
    "sire_df['fast_win_percent'] = df2.loc[df2.going == 1].groupby('sire_id').mean()['won'] \n",
    "sire_df['sloppy_win_percent'] = df2.loc[df2.going == 11].groupby('sire_id').mean()['won'] \n",
    "sire_df['good_yielding_win_percent'] = df2.loc[(df2.going == 7) | (df2.going == 4) | (df2.going == 20)].groupby('sire_id').mean()['won']\n",
    "sire_df['yielding_soft_win_percent'] = df2.loc[(df2.going == 21) | (df2.going == 13) | (df2.going == 20)].groupby('sire_id').mean()['won'] \n",
    "sire_df['slow_win_percent'] = df2.loc[df2.going == 12].groupby('sire_id').mean()['won'] \n",
    "sire_df['soft_heavy_win_percent'] = df2.loc[(df2.going == 14) | (df2.going == 13) | (df2.going == 8)].groupby('sire_id').mean()['won'] \n",
    "\n",
    "horse_df.loc[(763453,slice(None))]['win_percent_dist']\"\"\""
   ]
  },
  {
   "cell_type": "code",
   "execution_count": null,
   "id": "138c7cd9",
   "metadata": {},
   "outputs": [],
   "source": [
    "sire_df = pd.DataFrame(data = df2['sire_id'].unique(), columns=[\"sire_id\"])\n",
    "sire_df = sire_df.set_index('sire_id')\n",
    "\n",
    "df3 = df2.loc[(slice(None),sire_df.index.values),:]\n",
    "\n",
    "og_win_percent = df2.loc[(slice(None),sire_df.index.values),:].groupby(level=[1])['won'].mean()\n",
    "og_top_speeds = df2.loc[(slice(None),sire_df.index.values),:].groupby(level=[1])['top_speeds'].mean()\n",
    "og_ratings = df2.loc[(slice(None),sire_df.index.values),:].groupby(level=[1])['ratings'].mean()\n",
    "\n",
    "sire_df['num_runners'] = df2.groupby('sire_id').count()['won'] \n",
    "sire_df['won'] = df2.groupby('sire_id').sum()['won']\n",
    "sire_df['og_win_percent'] = og_win_percent\n",
    "sire_df['og_mean_top_speeds'] = og_top_speeds\n",
    "sire_df['og_mean_ratings'] = og_ratings\n",
    "sire_df['og_flat_win_percent'] = df3.loc[df2.race_type == 1].groupby(level=[1]).mean()['won']\n",
    "sire_df['og_chase_win_percent'] = df3.loc[df2.race_type == 2].groupby(level=[1]).mean()['won']\n",
    "sire_df['og_hurdle_win_percent'] = df3.loc[df2.race_type == 0].groupby(level=[1]).mean()['won']\n",
    "sire_df['og_soft_win_percent'] = df3.loc[(df2.going == 13) | (df2.going == 19) | (df2.going == 14)].groupby(level=[1]).mean()['won']\n",
    "sire_df['og_firm_win_percent'] = df3.loc[(df2.going == 2) | (df2.going == 1)].groupby(level=[1]).mean()['won']\n",
    "sire_df['og_heavy_win_percent'] = df3.loc[(df2.going == 8) | (df2.going == 11) | (df2.going == 12) | (df2.going == 14)].groupby(level=[1]).mean()['won']\n",
    "sire_df['og_good_soft_win_percent'] = df3.loc[(df2.going == 6) | (df2.going == 20) | (df2.going == 7) | (df2.going == 21) | (df2.going == 18)].groupby(level=[1]).mean()['won']\n",
    "sire_df['og_good_win_percent'] = df3.loc[(df2.going == 4) | (df2.going == 16) | (df2.going == 17)].groupby(level=[1]).mean()['won']\n",
    "sire_df['og_good_firm_win_percent'] = df3.loc[(df2.going == 5) | (df2.going == 4) | (df2.going == 2)].groupby(level=[1]).mean()['won'] \n",
    "sire_df['og_0_6_win_percent'] = df3.loc[(df2.dist_categories >= 0) & (df2.dist_categories <= 6)].groupby(level=[1]).mean()['won']\n",
    "sire_df['og_7_9_win_percent'] = df3.loc[(df2.dist_categories >= 7) & (df2.dist_categories <= 9)].groupby(level=[1]).mean()['won']\n",
    "sire_df['og_10_13_win_percent'] = df3.loc[(df2.dist_categories >= 10) & (df2.dist_categories <= 13)].groupby(level=[1]).mean()['won']\n",
    "sire_df['og_14_20_win_percent'] = df3.loc[(df2.dist_categories >= 14) & (df2.dist_categories <= 20)].groupby(level=[1]).mean()['won']\n",
    "sire_df['og_21_30_win_percent'] = df3.loc[(df2.dist_categories >= 21) & (df2.dist_categories <= 30)].groupby(level=[1]).mean()['won']\n",
    "sire_df['og_31_40_win_percent'] = df3.loc[(df2.dist_categories >= 31) & (df2.dist_categories <= 40)].groupby(level=[1]).mean()['won']\n",
    "\n",
    "sire_df['prog_win_percent'] = df2.groupby('sire_id').mean()['sire_win_percent']\n",
    "sire_df['prog_mean_top_speeds'] = df2.groupby('sire_id').mean()['top_speeds']\n",
    "sire_df['prog_mean_ratings'] = df2.groupby('sire_id').mean()['ratings']\n",
    "sire_df['prog_flat_win_percent'] = df2.loc[df2.race_type == 1].groupby('sire_id').mean()['won']\n",
    "sire_df['prog_chase_win_percent'] = df2.loc[df2.race_type == 2].groupby('sire_id').mean()['won']\n",
    "sire_df['prog_hurdle_win_percent'] = df2.loc[df2.race_type == 0].groupby('sire_id').mean()['won']\n",
    "sire_df['prog_soft_win_percent'] = df2.loc[(df2.going == 13) | (df2.going == 19) | (df2.going == 14)].groupby('sire_id').mean()['won']\n",
    "sire_df['prog_firm_win_percent'] = df2.loc[(df2.going == 2) | (df2.going == 1)].groupby('sire_id').mean()['won']\n",
    "sire_df['prog_heavy_win_percent'] = df2.loc[(df2.going == 8) | (df2.going == 11) | (df2.going == 12) | (df2.going == 14)].groupby('sire_id').mean()['won']\n",
    "sire_df['prog_good_soft_win_percent'] = df2.loc[(df2.going == 6) | (df2.going == 20) | (df2.going == 7) | (df2.going == 21) | (df2.going == 18)].groupby('sire_id').mean()['won']\n",
    "sire_df['prog_good_win_percent'] = df2.loc[(df2.going == 4) | (df2.going == 16) | (df2.going == 17)].groupby('sire_id').mean()['won']\n",
    "sire_df['prog_good_firm_win_percent'] = df2.loc[(df2.going == 5) | (df2.going == 4) | (df2.going == 2)].groupby('sire_id').mean()['won'] \n",
    "sire_df['prog_0_6_win_percent'] = df2.loc[(df2.dist_categories >= 0) & (df2.dist_categories <= 6)].groupby('sire_id').mean()['won']\n",
    "sire_df['prog_7_9_win_percent'] = df2.loc[(df2.dist_categories >= 7) & (df2.dist_categories <= 9)].groupby('sire_id').mean()['won']\n",
    "sire_df['prog_10_13_win_percent'] = df2.loc[(df2.dist_categories >= 10) & (df2.dist_categories <= 13)].groupby('sire_id').mean()['won']\n",
    "sire_df['prog_14_20_win_percent'] = df2.loc[(df2.dist_categories >= 12) & (df2.dist_categories <= 20)].groupby('sire_id').mean()['won']\n",
    "sire_df['prog_21_30_win_percent'] = df2.loc[(df2.dist_categories >= 21) & (df2.dist_categories <= 30)].groupby('sire_id').mean()['won']\n",
    "sire_df['prog_31_40_win_percent'] = df2.loc[(df2.dist_categories >= 31) & (df2.dist_categories <= 40)].groupby('sire_id').mean()['won']\n"
   ]
  },
  {
   "cell_type": "code",
   "execution_count": null,
   "id": "fb14ad68",
   "metadata": {},
   "outputs": [],
   "source": [
    "sire_df.loc[763453.0]"
   ]
  },
  {
   "cell_type": "code",
   "execution_count": null,
   "id": "c46c95a9",
   "metadata": {},
   "outputs": [],
   "source": [
    "dam_df = pd.DataFrame(data = df2['dam_id'].unique(), columns=[\"dam_id\"])\n",
    "dam_df = dam_df.set_index('dam_id')\n",
    "\n",
    "df3 = df2.loc[(slice(None),sire_df.index.values),:]\n",
    "\n",
    "og_win_percent = df2.loc[(slice(None),dam_df.index.values),:].groupby(level=[1])['won'].mean()\n",
    "og_top_speeds = df2.loc[(slice(None),dam_df.index.values),:].groupby(level=[1])['top_speeds'].mean()\n",
    "og_ratings = df2.loc[(slice(None),dam_df.index.values),:].groupby(level=[1])['ratings'].mean()\n",
    "\n",
    "dam_df['num_runners'] = df2.groupby('dam_id').count()['won'] \n",
    "dam_df['won'] = df2.groupby('dam_id').sum()['won']\n",
    "dam_df['og_win_percent'] = og_win_percent\n",
    "dam_df['og_mean_top_speeds'] = og_top_speeds\n",
    "dam_df['og_mean_ratings'] = og_ratings\n",
    "dam_df['og_flat_win_percent'] = df3.loc[df2.race_type == 1].groupby(level=[1]).mean()['won']\n",
    "dam_df['og_chase_win_percent'] = df3.loc[df2.race_type == 2].groupby(level=[1]).mean()['won']\n",
    "dam_df['og_hurdle_win_percent'] = df3.loc[df2.race_type == 0].groupby(level=[1]).mean()['won']\n",
    "dam_df['og_soft_win_percent'] = df3.loc[(df2.going == 13) | (df2.going == 19) | (df2.going == 14)].groupby(level=[1]).mean()['won']\n",
    "dam_df['og_firm_win_percent'] = df3.loc[(df2.going == 2) | (df2.going == 1)].groupby(level=[1]).mean()['won']\n",
    "dam_df['og_heavy_win_percent'] = df3.loc[(df2.going == 8) | (df2.going == 11) | (df2.going == 12) | (df2.going == 14)].groupby(level=[1]).mean()['won']\n",
    "dam_df['og_good_soft_win_percent'] = df3.loc[(df2.going == 6) | (df2.going == 20) | (df2.going == 7) | (df2.going == 21) | (df2.going == 18)].groupby(level=[1]).mean()['won']\n",
    "dam_df['og_good_win_percent'] = df3.loc[(df2.going == 4) | (df2.going == 16) | (df2.going == 17)].groupby(level=[1]).mean()['won']\n",
    "dam_df['og_good_firm_win_percent'] = df3.loc[(df2.going == 5) | (df2.going == 4) | (df2.going == 2)].groupby(level=[1]).mean()['won'] \n",
    "dam_df['og_0_6_win_percent'] = df3.loc[(df2.dist_categories >= 0) & (df2.dist_categories <= 6)].groupby(level=[1]).mean()['won']\n",
    "dam_df['og_7_9_win_percent'] = df3.loc[(df2.dist_categories >= 7) & (df2.dist_categories <= 9)].groupby(level=[1]).mean()['won']\n",
    "dam_df['og_10_13_win_percent'] = df3.loc[(df2.dist_categories >= 10) & (df2.dist_categories <= 13)].groupby(level=[1]).mean()['won']\n",
    "dam_df['og_14_20_win_percent'] = df3.loc[(df2.dist_categories >= 14) & (df2.dist_categories <= 20)].groupby(level=[1]).mean()['won']\n",
    "dam_df['og_21_30_win_percent'] = df3.loc[(df2.dist_categories >= 21) & (df2.dist_categories <= 30)].groupby(level=[1]).mean()['won']\n",
    "dam_df['og_31_40_win_percent'] = df3.loc[(df2.dist_categories >= 31) & (df2.dist_categories <= 40)].groupby(level=[1]).mean()['won']\n",
    "\n",
    "dam_df['prog_win_percent'] = df2.groupby('dam_id').mean()['dam_win_percent']\n",
    "dam_df['prog_mean_top_speeds'] = df2.groupby('dam_id').mean()['top_speeds']\n",
    "dam_df['prog_mean_ratings'] = df2.groupby('dam_id').mean()['ratings']\n",
    "dam_df['prog_flat_win_percent'] = df2.loc[df2.race_type == 1].groupby('dam_id').mean()['won']\n",
    "dam_df['prog_chase_win_percent'] = df2.loc[df2.race_type == 2].groupby('dam_id').mean()['won']\n",
    "dam_df['prog_hurdle_win_percent'] = df2.loc[df2.race_type == 0].groupby('dam_id').mean()['won']\n",
    "dam_df['prog_soft_win_percent'] = df2.loc[(df2.going == 13) | (df2.going == 19) | (df2.going == 14)].groupby('dam_id').mean()['won']\n",
    "dam_df['prog_firm_win_percent'] = df2.loc[(df2.going == 2) | (df2.going == 1)].groupby('dam_id').mean()['won']\n",
    "dam_df['prog_heavy_win_percent'] = df2.loc[(df2.going == 8) | (df2.going == 11) | (df2.going == 12) | (df2.going == 14)].groupby('dam_id').mean()['won']\n",
    "dam_df['prog_good_soft_win_percent'] = df2.loc[(df2.going == 6) | (df2.going == 20) | (df2.going == 7) | (df2.going == 21) | (df2.going == 18)].groupby('dam_id').mean()['won']\n",
    "dam_df['prog_good_win_percent'] = df2.loc[(df2.going == 4) | (df2.going == 16) | (df2.going == 17)].groupby('dam_id').mean()['won']\n",
    "dam_df['prog_good_firm_win_percent'] = df2.loc[(df2.going == 5) | (df2.going == 4) | (df2.going == 2)].groupby('dam_id').mean()['won'] \n",
    "dam_df['prog_0_6_win_percent'] = df2.loc[(df2.dist_categories >= 0) & (df2.dist_categories <= 6)].groupby('dam_id').mean()['won']\n",
    "dam_df['prog_7_9_win_percent'] = df2.loc[(df2.dist_categories >= 7) & (df2.dist_categories <= 9)].groupby('dam_id').mean()['won']\n",
    "dam_df['prog_10_13_win_percent'] = df2.loc[(df2.dist_categories >= 10) & (df2.dist_categories <= 13)].groupby('dam_id').mean()['won']\n",
    "dam_df['prog_14_20_win_percent'] = df2.loc[(df2.dist_categories >= 14) & (df2.dist_categories <= 20)].groupby('dam_id').mean()['won']\n",
    "dam_df['prog_21_30_win_percent'] = df2.loc[(df2.dist_categories >= 21) & (df2.dist_categories <= 30)].groupby('dam_id').mean()['won']\n",
    "dam_df['prog_31_40_win_percent'] = df2.loc[(df2.dist_categories >= 31) & (df2.dist_categories <= 40)].groupby('dam_id').mean()['won']\n"
   ]
  },
  {
   "cell_type": "code",
   "execution_count": null,
   "id": "b810e819",
   "metadata": {},
   "outputs": [],
   "source": [
    "df2['dist_categories'].unique()"
   ]
  },
  {
   "cell_type": "code",
   "execution_count": null,
   "id": "4acc848c",
   "metadata": {},
   "outputs": [],
   "source": [
    "# Set Rows\n",
    "def set_dam_sire_stats(row):\n",
    "    if row['sire_id'] in sire_df:\n",
    "        return 1\n",
    "    return 0"
   ]
  },
  {
   "cell_type": "code",
   "execution_count": null,
   "id": "76d8da8f",
   "metadata": {},
   "outputs": [],
   "source": [
    "\"\"\"test_df = df2.merge(sire_df, on=\"sire_id\")\n",
    "test_df = test_df.merge(dam_df, on=\"dam_id\")\n",
    "test_df\"\"\""
   ]
  },
  {
   "cell_type": "code",
   "execution_count": null,
   "id": "ea7faee2",
   "metadata": {},
   "outputs": [],
   "source": [
    "type_dict = {\n",
    "    0: 'hurdle_win_percent',\n",
    "    1: 'flat_win_percent',\n",
    "    2: 'chase_win_percent'\n",
    "}\n",
    "going_dict = {\n",
    "    13: 'soft_win_percent',\n",
    "    14: 'soft_win_percent',\n",
    "    15: 'soft_win_percent',\n",
    "    19: 'soft_win_percent',\n",
    "    1: 'firm_win_percent',\n",
    "    2: 'firm_win_percent',\n",
    "    8: 'heavy_win_percent',\n",
    "    9: 'heavy_win_percent',\n",
    "    10: 'heavy_win_percent',\n",
    "    11: 'heavy_win_percent',\n",
    "    12: 'heavy_win_percent',\n",
    "    6: 'good_soft_win_percent',\n",
    "    7: 'good_soft_win_percent',\n",
    "    18: 'good_soft_win_percent',\n",
    "    20: 'good_soft_win_percent',\n",
    "    21: 'good_soft_win_percent',\n",
    "    -1: 'good_win_percent',\n",
    "    3: 'good_win_percent',\n",
    "    4: 'good_win_percent',\n",
    "    16: 'good_win_percent',\n",
    "    17: 'good_win_percent',\n",
    "    5: 'good_firm_win_percent',\n",
    "    4: 'good_firm_win_percent',\n",
    "    2: 'good_firm_win_percent'\n",
    "}\n",
    "\n",
    "dist_dict = {\n",
    "    4: '0_6_win_percent',\n",
    "    5: '0_6_win_percent',\n",
    "    6 : '0_6_win_percent',\n",
    "    7: '7_9_win_percent',\n",
    "    8: '7_9_win_percent',\n",
    "    9: '7_9_win_percent',\n",
    "    10: '10_13_win_percent',\n",
    "    11: '10_13_win_percent',\n",
    "    12: '10_13_win_percent',\n",
    "    13: '14_20_win_percent',\n",
    "    14: '14_20_win_percent',\n",
    "    15: '14_20_win_percent',\n",
    "    16: '14_20_win_percent',\n",
    "    17: '14_20_win_percent',\n",
    "    18: '14_20_win_percent',\n",
    "    19: '14_20_win_percent',\n",
    "    20: '14_20_win_percent',\n",
    "    21: '21_30_win_percent',\n",
    "    22: '21_30_win_percent',\n",
    "    23: '21_30_win_percent',\n",
    "    24: '21_30_win_percent',\n",
    "    25: '21_30_win_percent',\n",
    "    26: '21_30_win_percent',\n",
    "    27: '21_30_win_percent',\n",
    "    28: '21_30_win_percent',\n",
    "    29: '21_30_win_percent',\n",
    "    30: '21_30_win_percent',\n",
    "    31: '31_40_win_percent',\n",
    "    32: '31_40_win_percent',\n",
    "    33: '31_40_win_percent',\n",
    "    34: '31_40_win_percent',\n",
    "    35: '31_40_win_percent',\n",
    "    36: '31_40_win_percent',\n",
    "    37: '31_40_win_percent',\n",
    "    38: '31_40_win_percent',\n",
    "    39: '31_40_win_percent',\n",
    "    40: '31_40_win_percent'\n",
    "}"
   ]
  },
  {
   "cell_type": "code",
   "execution_count": null,
   "id": "5a6305fe",
   "metadata": {},
   "outputs": [],
   "source": [
    "def get_sire_stats(row):\n",
    "    result = sire_df.loc[row['sire_id']]\n",
    "    return result[\"og_\"+going_dict[row['going']]], result[\"prog_\"+going_dict[row['going']]]\\\n",
    "        , result[\"og_\"+type_dict[row['race_type']]], result[\"prog_\"+type_dict[row['race_type']]]\\\n",
    "        , result[\"og_\"+dist_dict[row['dist_categories']]], result[\"prog_\"+dist_dict[row['dist_categories']]]"
   ]
  },
  {
   "cell_type": "code",
   "execution_count": null,
   "id": "1f4c7731",
   "metadata": {},
   "outputs": [],
   "source": [
    "df2['sire_og_going_win_percent'],df2['sire_prog_going_win_percent']\\\n",
    ",df2['sire_og_type_win_percent'],df2['sire_prog_type_win_percent']\\\n",
    ",df2['sire_og_dist_win_percent'],df2['sire_prog_dist_win_percent']= zip(*df2.apply(lambda row: get_sire_stats(row), axis=1))\n",
    "\n",
    "df2['dam_og_going_win_percent'],df2['dam_prog_going_win_percent']\\\n",
    ",df2['dam_og_type_win_percent'],df2['dam_prog_type_win_percent']\\\n",
    ",df2['dam_og_dist_win_percent'],df2['dam_prog_dist_win_percent']= zip(*df2.apply(lambda row: get_sire_stats(row), axis=1))\n",
    "df2"
   ]
  },
  {
   "cell_type": "code",
   "execution_count": null,
   "id": "6307d49d",
   "metadata": {},
   "outputs": [],
   "source": [
    "dam_sire_df = pd.DataFrame(data= df2['dam_sire_id'].unique(), columns=[\"dam_sire_id\"])\n",
    "dam_sire_df.set_index('dam_sire_id')\n",
    "\n",
    "df2['dam_sire_win_percent'] = df2.groupby('dam_sire_id').mean()['dam_sire_win_percent']"
   ]
  },
  {
   "cell_type": "code",
   "execution_count": null,
   "id": "cb92f813",
   "metadata": {},
   "outputs": [],
   "source": [
    "df2.to_csv('full_data5.csv')"
   ]
  }
 ],
 "metadata": {
  "kernelspec": {
   "display_name": "Python 3 (ipykernel)",
   "language": "python",
   "name": "python3"
  },
  "language_info": {
   "codemirror_mode": {
    "name": "ipython",
    "version": 3
   },
   "file_extension": ".py",
   "mimetype": "text/x-python",
   "name": "python",
   "nbconvert_exporter": "python",
   "pygments_lexer": "ipython3",
   "version": "3.9.7"
  }
 },
 "nbformat": 4,
 "nbformat_minor": 5
}
